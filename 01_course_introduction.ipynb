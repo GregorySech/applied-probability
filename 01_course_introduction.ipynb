{
 "cells": [
  {
   "cell_type": "markdown",
   "metadata": {},
   "source": [
    "# Course introduction\n",
    "\n",
    "This is a new course by [Prof. Isadora Antoniano Villalobos](https://www.unive.it/data/persone/20055797) substituting the course Spatio-temporal Analysis.  \n",
    "\n",
    "Quite often new students of the Master's Degree often come from different paths of life, one of the course objectives is to provide a foundation of statistical and probability concepts to prepare the students for their future.\n",
    "\n",
    "## Textbox\n",
    "The course textbook is [Probability and Statistics for Computer Scientists](https://books.google.it/books/about/Probability_and_Statistics_for_Computer.html?id=fkDADwAAQBAJ&redir_esc=y) which can be consulded also in digital form through the university bibliotecary system.\n",
    "\n",
    "## Exam\n",
    "Examination is composed by:\n",
    "\n",
    "### Written exam\n",
    "A written exam worth 25 points (as in grades). It is open book and open computer however this doesn't make it easy.  \n",
    "It is supposed to be easy for anyone who understands the concepts and has studied otherwise you will be **too slow** to do it on time.\n",
    "Theory will be evaluated with *questions* (no proofs by memory) and by the conseguent speed up in solving the *exercises*.\n",
    "\n",
    "### Project\n",
    "This is a group effort worth at most 5 points. All members of the team get the same grade.  \n",
    "During the course *ideas* and *themes* for projects will be brought up but the team should consult the teacher about choosing which project to do and how many points it will be worth.\n",
    "\n",
    "### Extra points\n",
    "During lessons the teacher might prompt an exercise/question that the students will have to solve.\n",
    "Depending on the performance extra points will be assigned:\n",
    "* full point for a correct answer\n",
    "* 0 for not answering\n",
    "* .5 point for an incorrect answer\n",
    "* negative point for a terribly incorrect answer. An answer is terribly incorrect when it was specificly pointed out by the teacher during the various lessons. \n",
    "\n",
    "You can gather no more than 3 extra points for your grade. Based on your score's percentile you get part of the points.\n",
    "\n",
    "## Languages\n",
    "The course will be in R but if you can do the same things in other languages you are free to do it. \n",
    "\n",
    "The notes will be made using R-based Jupyter Notebooks at first, maybe if I have some free time I might implement also a version in Python but I'm not promising anything."
   ]
  },
  {
   "cell_type": "markdown",
   "metadata": {},
   "source": [
    "## Course contents\n",
    "\n",
    "- **Probability core** chapters 1-4: this is supposed to be a prerequisite but it will be covered never the less as even if this has been seen it in the bachelor degree doesn't mean you **know** it.\n",
    "- **Monte Carlo Methods** chapter 5: a project from this could be based on Weak and Strong Law of Large Numbers as it is an important result that is not covered here.\n",
    "- **Stochastic Processes** chapter 6\n",
    "- **Simulation of Stochastic Processes** chapter 6.4: all that is skipped between this and chapter 5 can be used in projects.\n",
    "- **Queuing Theory** chapter 7: this would be part of the course but we cannot guarantee that there is enough time. Also all that is skipped can be used in projects.\n",
    "- **Statistics Core** chapters 8-9: this would be quite useful (even more than useful!) as a lot of future courses take concepts from this as known however it will only be introduced as intuitions."
   ]
  },
  {
   "cell_type": "markdown",
   "metadata": {},
   "source": [
    "## Presentation\n",
    "\n",
    "```Probability is the science of uncertainty.```\n",
    "\n",
    "The oldest trick in the mathematics book is taking an object, anything, and model their characteristics (completely or partially).\n",
    "\n",
    "We can use probability to measure how likely is for a physical event to happen depending on a mathematical model.\n",
    "\n",
    "Games are great tool for studying probabiliy as it was born from it since the dawn of betting as it is foundamental to find strategies to legally win a game most of the times.\n",
    "\n",
    "In the 1700s there were a clique of nobles that during a war were playing dice. The problem thay faced was choosing who should win the pot if the game was forcebly interrupted. The study of this problem gave birth to modern probability.\n",
    "\n",
    "If there is uncertainty about something it can be studied with probability."
   ]
  }
 ],
 "metadata": {
  "kernelspec": {
   "display_name": "R",
   "language": "R",
   "name": "ir"
  },
  "language_info": {
   "codemirror_mode": "r",
   "file_extension": ".r",
   "mimetype": "text/x-r-source",
   "name": "R",
   "pygments_lexer": "r",
   "version": "3.6.3"
  }
 },
 "nbformat": 4,
 "nbformat_minor": 4
}